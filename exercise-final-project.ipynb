{
 "cells": [
  {
   "cell_type": "markdown",
   "id": "6fa2e2da",
   "metadata": {
    "papermill": {
     "duration": 0.015199,
     "end_time": "2022-04-11T23:09:32.240401",
     "exception": false,
     "start_time": "2022-04-11T23:09:32.225202",
     "status": "completed"
    },
    "tags": []
   },
   "source": [
    "**This notebook is an exercise in the [Data Visualization](https://www.kaggle.com/learn/data-visualization) course.  You can reference the tutorial at [this link](https://www.kaggle.com/alexisbcook/final-project).**\n",
    "\n",
    "---\n"
   ]
  },
  {
   "cell_type": "markdown",
   "id": "be9e4e3a",
   "metadata": {
    "papermill": {
     "duration": 0.013675,
     "end_time": "2022-04-11T23:09:32.268444",
     "exception": false,
     "start_time": "2022-04-11T23:09:32.254769",
     "status": "completed"
    },
    "tags": []
   },
   "source": [
    "Now it's time for you to demonstrate your new skills with a project of your own!\n",
    "\n",
    "In this exercise, you will work with a dataset of your choosing.  Once you've selected a dataset, you'll design and create your own plot to tell interesting stories behind the data!\n",
    "\n",
    "## Setup\n",
    "\n",
    "Run the next cell to import and configure the Python libraries that you need to complete the exercise."
   ]
  },
  {
   "cell_type": "code",
   "execution_count": 1,
   "id": "67297ba8",
   "metadata": {
    "execution": {
     "iopub.execute_input": "2022-04-11T23:09:32.301570Z",
     "iopub.status.busy": "2022-04-11T23:09:32.300411Z",
     "iopub.status.idle": "2022-04-11T23:09:33.434834Z",
     "shell.execute_reply": "2022-04-11T23:09:33.434038Z",
     "shell.execute_reply.started": "2022-04-11T23:03:44.903089Z"
    },
    "papermill": {
     "duration": 1.152405,
     "end_time": "2022-04-11T23:09:33.435008",
     "exception": false,
     "start_time": "2022-04-11T23:09:32.282603",
     "status": "completed"
    },
    "tags": []
   },
   "outputs": [
    {
     "name": "stdout",
     "output_type": "stream",
     "text": [
      "Setup Complete\n"
     ]
    }
   ],
   "source": [
    "import pandas as pd\n",
    "pd.plotting.register_matplotlib_converters()\n",
    "import matplotlib.pyplot as plt\n",
    "%matplotlib inline\n",
    "import seaborn as sns\n",
    "print(\"Setup Complete\")"
   ]
  },
  {
   "cell_type": "markdown",
   "id": "17b4581b",
   "metadata": {
    "papermill": {
     "duration": 0.014466,
     "end_time": "2022-04-11T23:09:33.464556",
     "exception": false,
     "start_time": "2022-04-11T23:09:33.450090",
     "status": "completed"
    },
    "tags": []
   },
   "source": [
    "The questions below will give you feedback on your work. Run the following cell to set up the feedback system."
   ]
  },
  {
   "cell_type": "code",
   "execution_count": 2,
   "id": "d8a4b61f",
   "metadata": {
    "execution": {
     "iopub.execute_input": "2022-04-11T23:09:33.501296Z",
     "iopub.status.busy": "2022-04-11T23:09:33.500580Z",
     "iopub.status.idle": "2022-04-11T23:09:33.541194Z",
     "shell.execute_reply": "2022-04-11T23:09:33.540622Z",
     "shell.execute_reply.started": "2022-04-11T23:03:50.447362Z"
    },
    "papermill": {
     "duration": 0.061913,
     "end_time": "2022-04-11T23:09:33.541346",
     "exception": false,
     "start_time": "2022-04-11T23:09:33.479433",
     "status": "completed"
    },
    "tags": []
   },
   "outputs": [
    {
     "name": "stdout",
     "output_type": "stream",
     "text": [
      "Setup Complete\n"
     ]
    }
   ],
   "source": [
    "# Set up code checking\n",
    "from learntools.core import binder\n",
    "binder.bind(globals())\n",
    "from learntools.data_viz_to_coder.ex7 import *\n",
    "print(\"Setup Complete\")"
   ]
  },
  {
   "cell_type": "markdown",
   "id": "e592c8dd",
   "metadata": {
    "papermill": {
     "duration": 0.014635,
     "end_time": "2022-04-11T23:09:33.571120",
     "exception": false,
     "start_time": "2022-04-11T23:09:33.556485",
     "status": "completed"
    },
    "tags": []
   },
   "source": [
    "## Step 1: Attach a dataset to the notebook\n",
    "\n",
    "Begin by selecting a CSV dataset from [Kaggle Datasets](https://www.kaggle.com/datasets).  If you're unsure how to do this, please revisit the instructions in the previous tutorial.\n",
    "\n",
    "Once you have selected a dataset, click on the **[+ Add data]** option in the top right corner.  This will generate a pop-up window that you can use to search for your chosen dataset.  \n",
    "\n",
    "![ex6_search_dataset](https://i.imgur.com/cIIWPUS.png)\n",
    "\n",
    "Once you have found the dataset, click on the **[Add]** button to attach it to the notebook.  You can check that it was successful by looking at the **Data** dropdown menu to the right of the notebook -- look for an **input** folder containing a subfolder that matches the name of the dataset.\n",
    "\n",
    "<center>\n",
    "<img src=\"https://i.imgur.com/nMYc1Nu.png\" width=30%><br/>\n",
    "</center>\n",
    "\n",
    "You can click on the carat to the left of the name of the dataset to double-check that it contains a CSV file.  For instance, the image below shows that the example dataset contains two CSV files: (1) **dc-wikia-data.csv**, and (2) **marvel-wikia-data.csv**.\n",
    "\n",
    "<center>\n",
    "<img src=\"https://i.imgur.com/B4sJkVA.png\" width=30%><br/>\n",
    "</center>\n",
    "\n",
    "Once you've uploaded a dataset with a CSV file, run the code cell below **without changes** to receive credit for your work!"
   ]
  },
  {
   "cell_type": "code",
   "execution_count": 3,
   "id": "973c37d9",
   "metadata": {
    "execution": {
     "iopub.execute_input": "2022-04-11T23:09:33.607123Z",
     "iopub.status.busy": "2022-04-11T23:09:33.606143Z",
     "iopub.status.idle": "2022-04-11T23:09:33.621015Z",
     "shell.execute_reply": "2022-04-11T23:09:33.620495Z",
     "shell.execute_reply.started": "2022-04-11T23:06:12.921986Z"
    },
    "papermill": {
     "duration": 0.03515,
     "end_time": "2022-04-11T23:09:33.621148",
     "exception": false,
     "start_time": "2022-04-11T23:09:33.585998",
     "status": "completed"
    },
    "tags": []
   },
   "outputs": [
    {
     "data": {
      "application/javascript": [
       "parent.postMessage({\"jupyterEvent\": \"custom.exercise_interaction\", \"data\": {\"outcomeType\": 1, \"valueTowardsCompletion\": 0.25, \"interactionType\": 1, \"questionType\": 2, \"questionId\": \"1_AttachData\", \"learnToolsVersion\": \"0.3.4\", \"failureMessage\": \"\", \"exceptionClass\": \"\", \"trace\": \"\"}}, \"*\")"
      ],
      "text/plain": [
       "<IPython.core.display.Javascript object>"
      ]
     },
     "metadata": {},
     "output_type": "display_data"
    },
    {
     "data": {
      "text/markdown": [
       "<span style=\"color:#33cc33\">Correct:</span> \n",
       "\n"
      ],
      "text/plain": [
       "Correct: \n"
      ]
     },
     "metadata": {},
     "output_type": "display_data"
    }
   ],
   "source": [
    "# Check for a dataset with a CSV file\n",
    "step_1.check()"
   ]
  },
  {
   "cell_type": "markdown",
   "id": "99fb5149",
   "metadata": {
    "papermill": {
     "duration": 0.016094,
     "end_time": "2022-04-11T23:09:33.653471",
     "exception": false,
     "start_time": "2022-04-11T23:09:33.637377",
     "status": "completed"
    },
    "tags": []
   },
   "source": [
    "## Step 2: Specify the filepath\n",
    "\n",
    "Now that the dataset is attached to the notebook, you can find its filepath.  To do this, begin by clicking on the CSV file you'd like to use.  This will open the CSV file in a tab below the notebook.  You can find the filepath towards the top of this new tab.  \n",
    "\n",
    "![ex6_filepath](https://i.imgur.com/fgXQV47.png)\n",
    "\n",
    "After you find the filepath corresponding to your dataset, fill it in as the value for `my_filepath` in the code cell below, and run the code cell to check that you've provided a valid filepath.  For instance, in the case of this example dataset, we would set\n",
    "```\n",
    "my_filepath = \"../input/fivethirtyeight-comic-characters-dataset/dc-wikia-data.csv\"\n",
    "```  \n",
    "Note that **you must enclose the filepath in quotation marks**; otherwise, the code will return an error.\n",
    "\n",
    "Once you've entered the filepath, you can close the tab below the notebook by clicking on the **[X]** at the top of the tab."
   ]
  },
  {
   "cell_type": "code",
   "execution_count": 4,
   "id": "3e3f1395",
   "metadata": {
    "execution": {
     "iopub.execute_input": "2022-04-11T23:09:33.692263Z",
     "iopub.status.busy": "2022-04-11T23:09:33.691562Z",
     "iopub.status.idle": "2022-04-11T23:09:33.696853Z",
     "shell.execute_reply": "2022-04-11T23:09:33.697468Z",
     "shell.execute_reply.started": "2022-04-11T23:06:57.562491Z"
    },
    "papermill": {
     "duration": 0.027434,
     "end_time": "2022-04-11T23:09:33.697643",
     "exception": false,
     "start_time": "2022-04-11T23:09:33.670209",
     "status": "completed"
    },
    "tags": []
   },
   "outputs": [
    {
     "data": {
      "application/javascript": [
       "parent.postMessage({\"jupyterEvent\": \"custom.exercise_interaction\", \"data\": {\"outcomeType\": 1, \"valueTowardsCompletion\": 0.25, \"interactionType\": 1, \"questionType\": 2, \"questionId\": \"2_Filepath\", \"learnToolsVersion\": \"0.3.4\", \"failureMessage\": \"\", \"exceptionClass\": \"\", \"trace\": \"\"}}, \"*\")"
      ],
      "text/plain": [
       "<IPython.core.display.Javascript object>"
      ]
     },
     "metadata": {},
     "output_type": "display_data"
    },
    {
     "data": {
      "text/markdown": [
       "<span style=\"color:#33cc33\">Correct:</span> \n",
       "\n"
      ],
      "text/plain": [
       "Correct: \n"
      ]
     },
     "metadata": {},
     "output_type": "display_data"
    }
   ],
   "source": [
    "# Fill in the line below: Specify the path of the CSV file to read\n",
    "my_filepath = \"../input/data-analyst/2019_data_analyst_jobs - raw data.csv\"\n",
    "\n",
    "# Check for a valid filepath to a CSV file in a dataset\n",
    "step_2.check()"
   ]
  },
  {
   "cell_type": "markdown",
   "id": "a4ceb3f9",
   "metadata": {
    "papermill": {
     "duration": 0.016913,
     "end_time": "2022-04-11T23:09:33.732251",
     "exception": false,
     "start_time": "2022-04-11T23:09:33.715338",
     "status": "completed"
    },
    "tags": []
   },
   "source": [
    "## Step 3: Load the data\n",
    "\n",
    "Use the next code cell to load your data file into `my_data`.  Use the filepath that you specified in the previous step."
   ]
  },
  {
   "cell_type": "code",
   "execution_count": 5,
   "id": "3c6bd5c2",
   "metadata": {
    "execution": {
     "iopub.execute_input": "2022-04-11T23:09:33.771894Z",
     "iopub.status.busy": "2022-04-11T23:09:33.771191Z",
     "iopub.status.idle": "2022-04-11T23:09:33.880732Z",
     "shell.execute_reply": "2022-04-11T23:09:33.881263Z",
     "shell.execute_reply.started": "2022-04-11T23:07:18.637159Z"
    },
    "papermill": {
     "duration": 0.13102,
     "end_time": "2022-04-11T23:09:33.881439",
     "exception": false,
     "start_time": "2022-04-11T23:09:33.750419",
     "status": "completed"
    },
    "tags": []
   },
   "outputs": [
    {
     "data": {
      "application/javascript": [
       "parent.postMessage({\"jupyterEvent\": \"custom.exercise_interaction\", \"data\": {\"outcomeType\": 1, \"valueTowardsCompletion\": 0.25, \"interactionType\": 1, \"questionType\": 2, \"questionId\": \"3_LoadData\", \"learnToolsVersion\": \"0.3.4\", \"failureMessage\": \"\", \"exceptionClass\": \"\", \"trace\": \"\"}}, \"*\")"
      ],
      "text/plain": [
       "<IPython.core.display.Javascript object>"
      ]
     },
     "metadata": {},
     "output_type": "display_data"
    },
    {
     "data": {
      "text/markdown": [
       "<span style=\"color:#33cc33\">Correct:</span> \n",
       "\n"
      ],
      "text/plain": [
       "Correct: \n"
      ]
     },
     "metadata": {},
     "output_type": "display_data"
    }
   ],
   "source": [
    "# Fill in the line below: Read the file into a variable my_data\n",
    "my_data = pd.read_csv(my_filepath)\n",
    "\n",
    "# Check that a dataset has been uploaded into my_data\n",
    "step_3.check()"
   ]
  },
  {
   "cell_type": "markdown",
   "id": "48e174ca",
   "metadata": {
    "papermill": {
     "duration": 0.018964,
     "end_time": "2022-04-11T23:09:33.919112",
     "exception": false,
     "start_time": "2022-04-11T23:09:33.900148",
     "status": "completed"
    },
    "tags": []
   },
   "source": [
    "**_After the code cell above is marked correct_**, run the code cell below without changes to view the first five rows of the data."
   ]
  },
  {
   "cell_type": "code",
   "execution_count": 6,
   "id": "1aedada9",
   "metadata": {
    "execution": {
     "iopub.execute_input": "2022-04-11T23:09:33.959678Z",
     "iopub.status.busy": "2022-04-11T23:09:33.959041Z",
     "iopub.status.idle": "2022-04-11T23:09:33.977135Z",
     "shell.execute_reply": "2022-04-11T23:09:33.977928Z",
     "shell.execute_reply.started": "2022-04-11T23:07:21.882058Z"
    },
    "papermill": {
     "duration": 0.040545,
     "end_time": "2022-04-11T23:09:33.978208",
     "exception": false,
     "start_time": "2022-04-11T23:09:33.937663",
     "status": "completed"
    },
    "tags": []
   },
   "outputs": [
    {
     "data": {
      "text/html": [
       "<div>\n",
       "<style scoped>\n",
       "    .dataframe tbody tr th:only-of-type {\n",
       "        vertical-align: middle;\n",
       "    }\n",
       "\n",
       "    .dataframe tbody tr th {\n",
       "        vertical-align: top;\n",
       "    }\n",
       "\n",
       "    .dataframe thead th {\n",
       "        text-align: right;\n",
       "    }\n",
       "</style>\n",
       "<table border=\"1\" class=\"dataframe\">\n",
       "  <thead>\n",
       "    <tr style=\"text-align: right;\">\n",
       "      <th></th>\n",
       "      <th>ID</th>\n",
       "      <th>Date</th>\n",
       "      <th>Job Title</th>\n",
       "      <th>Job Location</th>\n",
       "      <th>Hired</th>\n",
       "      <th>Easy Apply</th>\n",
       "      <th>Month</th>\n",
       "    </tr>\n",
       "  </thead>\n",
       "  <tbody>\n",
       "    <tr>\n",
       "      <th>0</th>\n",
       "      <td>11578773</td>\n",
       "      <td>1/1/19 0:01</td>\n",
       "      <td>BUSINESS DATA ANALYST</td>\n",
       "      <td>New York, NY</td>\n",
       "      <td>True</td>\n",
       "      <td>False</td>\n",
       "      <td>January</td>\n",
       "    </tr>\n",
       "    <tr>\n",
       "      <th>1</th>\n",
       "      <td>11613549</td>\n",
       "      <td>1/1/19 0:01</td>\n",
       "      <td>CLINICAL DATA ANALYST</td>\n",
       "      <td>New York, NY</td>\n",
       "      <td>False</td>\n",
       "      <td>False</td>\n",
       "      <td>January</td>\n",
       "    </tr>\n",
       "    <tr>\n",
       "      <th>2</th>\n",
       "      <td>11680840</td>\n",
       "      <td>1/1/19 0:01</td>\n",
       "      <td>DATA QUALITY ANALYST</td>\n",
       "      <td>New York, NY</td>\n",
       "      <td>False</td>\n",
       "      <td>False</td>\n",
       "      <td>January</td>\n",
       "    </tr>\n",
       "    <tr>\n",
       "      <th>3</th>\n",
       "      <td>11809979</td>\n",
       "      <td>1/1/19 0:01</td>\n",
       "      <td>DATA QUALITY ANALYST</td>\n",
       "      <td>New York, NY</td>\n",
       "      <td>False</td>\n",
       "      <td>True</td>\n",
       "      <td>January</td>\n",
       "    </tr>\n",
       "    <tr>\n",
       "      <th>4</th>\n",
       "      <td>11836481</td>\n",
       "      <td>1/1/19 0:01</td>\n",
       "      <td>QA DATA ANALYST</td>\n",
       "      <td>New York, NY</td>\n",
       "      <td>False</td>\n",
       "      <td>False</td>\n",
       "      <td>January</td>\n",
       "    </tr>\n",
       "  </tbody>\n",
       "</table>\n",
       "</div>"
      ],
      "text/plain": [
       "         ID         Date              Job Title  Job Location  Hired  \\\n",
       "0  11578773  1/1/19 0:01  BUSINESS DATA ANALYST  New York, NY   True   \n",
       "1  11613549  1/1/19 0:01  CLINICAL DATA ANALYST  New York, NY  False   \n",
       "2  11680840  1/1/19 0:01   DATA QUALITY ANALYST  New York, NY  False   \n",
       "3  11809979  1/1/19 0:01   DATA QUALITY ANALYST  New York, NY  False   \n",
       "4  11836481  1/1/19 0:01        QA DATA ANALYST  New York, NY  False   \n",
       "\n",
       "   Easy Apply    Month  \n",
       "0       False  January  \n",
       "1       False  January  \n",
       "2       False  January  \n",
       "3        True  January  \n",
       "4       False  January  "
      ]
     },
     "execution_count": 6,
     "metadata": {},
     "output_type": "execute_result"
    }
   ],
   "source": [
    "# Print the first five rows of the data\n",
    "my_data.head()"
   ]
  },
  {
   "cell_type": "markdown",
   "id": "d1ff6390",
   "metadata": {
    "papermill": {
     "duration": 0.019817,
     "end_time": "2022-04-11T23:09:34.018733",
     "exception": false,
     "start_time": "2022-04-11T23:09:33.998916",
     "status": "completed"
    },
    "tags": []
   },
   "source": [
    "## Step 4: Visualize the data\n",
    "\n",
    "Use the next code cell to create a figure that tells a story behind your dataset.  You can use any chart type (_line chart, bar chart, heatmap, etc_) of your choosing!"
   ]
  },
  {
   "cell_type": "code",
   "execution_count": 7,
   "id": "b96af124",
   "metadata": {
    "execution": {
     "iopub.execute_input": "2022-04-11T23:09:34.061261Z",
     "iopub.status.busy": "2022-04-11T23:09:34.060607Z",
     "iopub.status.idle": "2022-04-11T23:09:38.694464Z",
     "shell.execute_reply": "2022-04-11T23:09:38.693764Z",
     "shell.execute_reply.started": "2022-04-11T23:08:49.854322Z"
    },
    "papermill": {
     "duration": 4.656395,
     "end_time": "2022-04-11T23:09:38.694642",
     "exception": false,
     "start_time": "2022-04-11T23:09:34.038247",
     "status": "completed"
    },
    "tags": []
   },
   "outputs": [
    {
     "data": {
      "application/javascript": [
       "parent.postMessage({\"jupyterEvent\": \"custom.exercise_interaction\", \"data\": {\"outcomeType\": 1, \"valueTowardsCompletion\": 0.25, \"interactionType\": 1, \"questionType\": 2, \"questionId\": \"4_CreatePlot\", \"learnToolsVersion\": \"0.3.4\", \"failureMessage\": \"\", \"exceptionClass\": \"\", \"trace\": \"\"}}, \"*\")"
      ],
      "text/plain": [
       "<IPython.core.display.Javascript object>"
      ]
     },
     "metadata": {},
     "output_type": "display_data"
    },
    {
     "data": {
      "text/markdown": [
       "<span style=\"color:#33cc33\">Correct:</span> \n",
       "\n"
      ],
      "text/plain": [
       "Correct: \n"
      ]
     },
     "metadata": {},
     "output_type": "display_data"
    },
    {
     "data": {
      "image/png": "[encoded data removed]",
      "text/plain": [
       "<Figure size 432x288 with 1 Axes>"
      ]
     },
     "metadata": {
      "needs_background": "light"
     },
     "output_type": "display_data"
    }
   ],
   "source": [
    "# Create a plot\n",
    "sns.lineplot(data=my_data)# Your code here\n",
    "\n",
    "# Check that a figure appears below\n",
    "step_4.check()"
   ]
  },
  {
   "cell_type": "markdown",
   "id": "98fdede4",
   "metadata": {
    "papermill": {
     "duration": 0.021454,
     "end_time": "2022-04-11T23:09:38.738586",
     "exception": false,
     "start_time": "2022-04-11T23:09:38.717132",
     "status": "completed"
    },
    "tags": []
   },
   "source": [
    "## Keep going\n",
    "\n",
    "Learn how to use your skills after completing the micro-course to create data visualizations in a **[final tutorial](https://www.kaggle.com/alexisbcook/creating-your-own-notebooks)**."
   ]
  },
  {
   "cell_type": "markdown",
   "id": "f9905e8c",
   "metadata": {
    "papermill": {
     "duration": 0.021338,
     "end_time": "2022-04-11T23:09:38.781831",
     "exception": false,
     "start_time": "2022-04-11T23:09:38.760493",
     "status": "completed"
    },
    "tags": []
   },
   "source": [
    "---\n",
    "\n",
    "\n",
    "\n",
    "\n",
    "*Have questions or comments? Visit the [course discussion forum](https://www.kaggle.com/learn/data-visualization/discussion) to chat with other learners.*"
   ]
  }
 ],
 "metadata": {
  "kernelspec": {
   "display_name": "Python 3",
   "language": "python",
   "name": "python3"
  },
  "language_info": {
   "codemirror_mode": {
    "name": "ipython",
    "version": 3
   },
   "file_extension": ".py",
   "mimetype": "text/x-python",
   "name": "python",
   "nbconvert_exporter": "python",
   "pygments_lexer": "ipython3",
   "version": "3.7.12"
  },
  "papermill": {
   "default_parameters": {},
   "duration": 17.256582,
   "end_time": "2022-04-11T23:09:39.517729",
   "environment_variables": {},
   "exception": null,
   "input_path": "__notebook__.ipynb",
   "output_path": "__notebook__.ipynb",
   "parameters": {},
   "start_time": "2022-04-11T23:09:22.261147",
   "version": "2.3.3"
  }
 },
 "nbformat": 4,
 "nbformat_minor": 5
}
