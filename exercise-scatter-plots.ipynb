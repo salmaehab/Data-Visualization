{
 "cells": [
  {
   "cell_type": "markdown",
   "id": "5a8a3ad4",
   "metadata": {
    "papermill": {
     "duration": 0.025899,
     "end_time": "2022-04-11T20:42:55.737774",
     "exception": false,
     "start_time": "2022-04-11T20:42:55.711875",
     "status": "completed"
    },
    "tags": []
   },
   "source": [
    "**This notebook is an exercise in the [Data Visualization](https://www.kaggle.com/learn/data-visualization) course.  You can reference the tutorial at [this link](https://www.kaggle.com/alexisbcook/scatter-plots).**\n",
    "\n",
    "---\n"
   ]
  },
  {
   "cell_type": "markdown",
   "id": "ee2d1336",
   "metadata": {
    "papermill": {
     "duration": 0.024293,
     "end_time": "2022-04-11T20:42:55.788190",
     "exception": false,
     "start_time": "2022-04-11T20:42:55.763897",
     "status": "completed"
    },
    "tags": []
   },
   "source": [
    "In this exercise, you will use your new knowledge to propose a solution to a real-world scenario.  To succeed, you will need to import data into Python, answer questions using the data, and generate **scatter plots** to understand patterns in the data.\n",
    "\n",
    "## Scenario\n",
    "\n",
    "You work for a major candy producer, and your goal is to write a report that your company can use to guide the design of its next product.  Soon after starting your research, you stumble across this [very interesting dataset](https://fivethirtyeight.com/features/the-ultimate-halloween-candy-power-ranking/) containing results from a fun survey to crowdsource favorite candies.\n",
    "\n",
    "## Setup\n",
    "\n",
    "Run the next cell to import and configure the Python libraries that you need to complete the exercise."
   ]
  },
  {
   "cell_type": "code",
   "execution_count": 1,
   "id": "a8335a26",
   "metadata": {
    "execution": {
     "iopub.execute_input": "2022-04-11T20:42:55.841397Z",
     "iopub.status.busy": "2022-04-11T20:42:55.840259Z",
     "iopub.status.idle": "2022-04-11T20:42:56.898122Z",
     "shell.execute_reply": "2022-04-11T20:42:56.897485Z",
     "shell.execute_reply.started": "2022-04-11T20:28:47.309424Z"
    },
    "papermill": {
     "duration": 1.085277,
     "end_time": "2022-04-11T20:42:56.898307",
     "exception": false,
     "start_time": "2022-04-11T20:42:55.813030",
     "status": "completed"
    },
    "tags": []
   },
   "outputs": [
    {
     "name": "stdout",
     "output_type": "stream",
     "text": [
      "Setup Complete\n"
     ]
    }
   ],
   "source": [
    "import pandas as pd\n",
    "pd.plotting.register_matplotlib_converters()\n",
    "import matplotlib.pyplot as plt\n",
    "%matplotlib inline\n",
    "import seaborn as sns\n",
    "print(\"Setup Complete\")"
   ]
  },
  {
   "cell_type": "markdown",
   "id": "91595057",
   "metadata": {
    "papermill": {
     "duration": 0.024161,
     "end_time": "2022-04-11T20:42:56.947604",
     "exception": false,
     "start_time": "2022-04-11T20:42:56.923443",
     "status": "completed"
    },
    "tags": []
   },
   "source": [
    "The questions below will give you feedback on your work. Run the following cell to set up our feedback system."
   ]
  },
  {
   "cell_type": "code",
   "execution_count": 2,
   "id": "a259494e",
   "metadata": {
    "execution": {
     "iopub.execute_input": "2022-04-11T20:42:57.002315Z",
     "iopub.status.busy": "2022-04-11T20:42:57.001644Z",
     "iopub.status.idle": "2022-04-11T20:42:57.062951Z",
     "shell.execute_reply": "2022-04-11T20:42:57.062353Z",
     "shell.execute_reply.started": "2022-04-11T20:28:48.469723Z"
    },
    "papermill": {
     "duration": 0.090277,
     "end_time": "2022-04-11T20:42:57.063101",
     "exception": false,
     "start_time": "2022-04-11T20:42:56.972824",
     "status": "completed"
    },
    "tags": []
   },
   "outputs": [
    {
     "name": "stdout",
     "output_type": "stream",
     "text": [
      "Setup Complete\n"
     ]
    }
   ],
   "source": [
    "# Set up code checking\n",
    "import os\n",
    "if not os.path.exists(\"../input/candy.csv\"):\n",
    "    os.symlink(\"../input/data-for-datavis/candy.csv\", \"../input/candy.csv\") \n",
    "from learntools.core import binder\n",
    "binder.bind(globals())\n",
    "from learntools.data_viz_to_coder.ex4 import *\n",
    "print(\"Setup Complete\")"
   ]
  },
  {
   "cell_type": "markdown",
   "id": "66cc211f",
   "metadata": {
    "papermill": {
     "duration": 0.026829,
     "end_time": "2022-04-11T20:42:57.115760",
     "exception": false,
     "start_time": "2022-04-11T20:42:57.088931",
     "status": "completed"
    },
    "tags": []
   },
   "source": [
    "## Step 1: Load the Data\n",
    "\n",
    "Read the candy data file into `candy_data`.  Use the `\"id\"` column to label the rows."
   ]
  },
  {
   "cell_type": "code",
   "execution_count": 3,
   "id": "9e1e1946",
   "metadata": {
    "execution": {
     "iopub.execute_input": "2022-04-11T20:42:57.170867Z",
     "iopub.status.busy": "2022-04-11T20:42:57.169970Z",
     "iopub.status.idle": "2022-04-11T20:42:57.183498Z",
     "shell.execute_reply": "2022-04-11T20:42:57.183965Z",
     "shell.execute_reply.started": "2022-04-11T20:30:16.625906Z"
    },
    "papermill": {
     "duration": 0.04318,
     "end_time": "2022-04-11T20:42:57.184133",
     "exception": false,
     "start_time": "2022-04-11T20:42:57.140953",
     "status": "completed"
    },
    "tags": []
   },
   "outputs": [
    {
     "data": {
      "application/javascript": [
       "parent.postMessage({\"jupyterEvent\": \"custom.exercise_interaction\", \"data\": {\"outcomeType\": 1, \"valueTowardsCompletion\": 0.3333333333333333, \"interactionType\": 1, \"questionType\": 1, \"questionId\": \"1_LoadData\", \"learnToolsVersion\": \"0.3.4\", \"failureMessage\": \"\", \"exceptionClass\": \"\", \"trace\": \"\"}}, \"*\")"
      ],
      "text/plain": [
       "<IPython.core.display.Javascript object>"
      ]
     },
     "metadata": {},
     "output_type": "display_data"
    },
    {
     "data": {
      "text/markdown": [
       "<span style=\"color:#33cc33\">Correct</span>"
      ],
      "text/plain": [
       "Correct"
      ]
     },
     "metadata": {},
     "output_type": "display_data"
    }
   ],
   "source": [
    "# Path of the file to read\n",
    "candy_filepath = \"../input/candy.csv\"\n",
    "\n",
    "# Fill in the line below to read the file into a variable candy_data\n",
    "candy_data = pd.read_csv(candy_filepath,index_col='id')\n",
    "\n",
    "# Run the line below with no changes to check that you've loaded the data correctly\n",
    "step_1.check()"
   ]
  },
  {
   "cell_type": "code",
   "execution_count": 4,
   "id": "592aa0fc",
   "metadata": {
    "execution": {
     "iopub.execute_input": "2022-04-11T20:42:57.239755Z",
     "iopub.status.busy": "2022-04-11T20:42:57.238867Z",
     "iopub.status.idle": "2022-04-11T20:42:57.248185Z",
     "shell.execute_reply": "2022-04-11T20:42:57.248656Z",
     "shell.execute_reply.started": "2022-04-11T20:30:09.285827Z"
    },
    "papermill": {
     "duration": 0.038402,
     "end_time": "2022-04-11T20:42:57.248809",
     "exception": false,
     "start_time": "2022-04-11T20:42:57.210407",
     "status": "completed"
    },
    "tags": []
   },
   "outputs": [
    {
     "data": {
      "application/javascript": [
       "parent.postMessage({\"jupyterEvent\": \"custom.exercise_interaction\", \"data\": {\"interactionType\": 2, \"questionType\": 1, \"questionId\": \"1_LoadData\", \"learnToolsVersion\": \"0.3.4\", \"valueTowardsCompletion\": 0.0, \"failureMessage\": \"\", \"exceptionClass\": \"\", \"trace\": \"\", \"outcomeType\": 4}}, \"*\")"
      ],
      "text/plain": [
       "<IPython.core.display.Javascript object>"
      ]
     },
     "metadata": {},
     "output_type": "display_data"
    },
    {
     "data": {
      "text/markdown": [
       "<span style=\"color:#3366cc\">Hint:</span> Use `pd.read_csv`, and follow it with **two** pieces of text that are enclosed in parentheses and separated by commas.  (1) The filepath for the dataset is provided in `candy_filepath`.  (2) Use the `\"id\"` column to label the rows."
      ],
      "text/plain": [
       "Hint: Use `pd.read_csv`, and follow it with **two** pieces of text that are enclosed in parentheses and separated by commas.  (1) The filepath for the dataset is provided in `candy_filepath`.  (2) Use the `\"id\"` column to label the rows."
      ]
     },
     "metadata": {},
     "output_type": "display_data"
    },
    {
     "data": {
      "application/javascript": [
       "parent.postMessage({\"jupyterEvent\": \"custom.exercise_interaction\", \"data\": {\"interactionType\": 3, \"questionType\": 1, \"questionId\": \"1_LoadData\", \"learnToolsVersion\": \"0.3.4\", \"valueTowardsCompletion\": 0.0, \"failureMessage\": \"\", \"exceptionClass\": \"\", \"trace\": \"\", \"outcomeType\": 4}}, \"*\")"
      ],
      "text/plain": [
       "<IPython.core.display.Javascript object>"
      ]
     },
     "metadata": {},
     "output_type": "display_data"
    },
    {
     "data": {
      "text/markdown": [
       "<span style=\"color:#33cc99\">Solution:</span> \n",
       "```python\n",
       "candy_data = pd.read_csv(candy_filepath, index_col=\"id\")\n",
       "```"
      ],
      "text/plain": [
       "Solution: \n",
       "```python\n",
       "candy_data = pd.read_csv(candy_filepath, index_col=\"id\")\n",
       "```"
      ]
     },
     "metadata": {},
     "output_type": "display_data"
    }
   ],
   "source": [
    "# Lines below will give you a hint or solution code\n",
    "step_1.hint()\n",
    "step_1.solution()"
   ]
  },
  {
   "cell_type": "markdown",
   "id": "924510a3",
   "metadata": {
    "papermill": {
     "duration": 0.027409,
     "end_time": "2022-04-11T20:42:57.304458",
     "exception": false,
     "start_time": "2022-04-11T20:42:57.277049",
     "status": "completed"
    },
    "tags": []
   },
   "source": [
    "## Step 2: Review the data\n",
    "\n",
    "Use a Python command to print the first five rows of the data."
   ]
  },
  {
   "cell_type": "code",
   "execution_count": 5,
   "id": "d323c02d",
   "metadata": {
    "execution": {
     "iopub.execute_input": "2022-04-11T20:42:57.362862Z",
     "iopub.status.busy": "2022-04-11T20:42:57.362271Z",
     "iopub.status.idle": "2022-04-11T20:42:57.381153Z",
     "shell.execute_reply": "2022-04-11T20:42:57.381540Z",
     "shell.execute_reply.started": "2022-04-11T20:31:51.507945Z"
    },
    "papermill": {
     "duration": 0.049734,
     "end_time": "2022-04-11T20:42:57.381719",
     "exception": false,
     "start_time": "2022-04-11T20:42:57.331985",
     "status": "completed"
    },
    "tags": []
   },
   "outputs": [
    {
     "data": {
      "text/html": [
       "<div>\n",
       "<style scoped>\n",
       "    .dataframe tbody tr th:only-of-type {\n",
       "        vertical-align: middle;\n",
       "    }\n",
       "\n",
       "    .dataframe tbody tr th {\n",
       "        vertical-align: top;\n",
       "    }\n",
       "\n",
       "    .dataframe thead th {\n",
       "        text-align: right;\n",
       "    }\n",
       "</style>\n",
       "<table border=\"1\" class=\"dataframe\">\n",
       "  <thead>\n",
       "    <tr style=\"text-align: right;\">\n",
       "      <th></th>\n",
       "      <th>competitorname</th>\n",
       "      <th>chocolate</th>\n",
       "      <th>fruity</th>\n",
       "      <th>caramel</th>\n",
       "      <th>peanutyalmondy</th>\n",
       "      <th>nougat</th>\n",
       "      <th>crispedricewafer</th>\n",
       "      <th>hard</th>\n",
       "      <th>bar</th>\n",
       "      <th>pluribus</th>\n",
       "      <th>sugarpercent</th>\n",
       "      <th>pricepercent</th>\n",
       "      <th>winpercent</th>\n",
       "    </tr>\n",
       "    <tr>\n",
       "      <th>id</th>\n",
       "      <th></th>\n",
       "      <th></th>\n",
       "      <th></th>\n",
       "      <th></th>\n",
       "      <th></th>\n",
       "      <th></th>\n",
       "      <th></th>\n",
       "      <th></th>\n",
       "      <th></th>\n",
       "      <th></th>\n",
       "      <th></th>\n",
       "      <th></th>\n",
       "      <th></th>\n",
       "    </tr>\n",
       "  </thead>\n",
       "  <tbody>\n",
       "    <tr>\n",
       "      <th>0</th>\n",
       "      <td>100 Grand</td>\n",
       "      <td>Yes</td>\n",
       "      <td>No</td>\n",
       "      <td>Yes</td>\n",
       "      <td>No</td>\n",
       "      <td>No</td>\n",
       "      <td>Yes</td>\n",
       "      <td>No</td>\n",
       "      <td>Yes</td>\n",
       "      <td>No</td>\n",
       "      <td>0.732</td>\n",
       "      <td>0.860</td>\n",
       "      <td>66.971725</td>\n",
       "    </tr>\n",
       "    <tr>\n",
       "      <th>1</th>\n",
       "      <td>3 Musketeers</td>\n",
       "      <td>Yes</td>\n",
       "      <td>No</td>\n",
       "      <td>No</td>\n",
       "      <td>No</td>\n",
       "      <td>Yes</td>\n",
       "      <td>No</td>\n",
       "      <td>No</td>\n",
       "      <td>Yes</td>\n",
       "      <td>No</td>\n",
       "      <td>0.604</td>\n",
       "      <td>0.511</td>\n",
       "      <td>67.602936</td>\n",
       "    </tr>\n",
       "    <tr>\n",
       "      <th>2</th>\n",
       "      <td>Air Heads</td>\n",
       "      <td>No</td>\n",
       "      <td>Yes</td>\n",
       "      <td>No</td>\n",
       "      <td>No</td>\n",
       "      <td>No</td>\n",
       "      <td>No</td>\n",
       "      <td>No</td>\n",
       "      <td>No</td>\n",
       "      <td>No</td>\n",
       "      <td>0.906</td>\n",
       "      <td>0.511</td>\n",
       "      <td>52.341465</td>\n",
       "    </tr>\n",
       "    <tr>\n",
       "      <th>3</th>\n",
       "      <td>Almond Joy</td>\n",
       "      <td>Yes</td>\n",
       "      <td>No</td>\n",
       "      <td>No</td>\n",
       "      <td>Yes</td>\n",
       "      <td>No</td>\n",
       "      <td>No</td>\n",
       "      <td>No</td>\n",
       "      <td>Yes</td>\n",
       "      <td>No</td>\n",
       "      <td>0.465</td>\n",
       "      <td>0.767</td>\n",
       "      <td>50.347546</td>\n",
       "    </tr>\n",
       "    <tr>\n",
       "      <th>4</th>\n",
       "      <td>Baby Ruth</td>\n",
       "      <td>Yes</td>\n",
       "      <td>No</td>\n",
       "      <td>Yes</td>\n",
       "      <td>Yes</td>\n",
       "      <td>Yes</td>\n",
       "      <td>No</td>\n",
       "      <td>No</td>\n",
       "      <td>Yes</td>\n",
       "      <td>No</td>\n",
       "      <td>0.604</td>\n",
       "      <td>0.767</td>\n",
       "      <td>56.914547</td>\n",
       "    </tr>\n",
       "  </tbody>\n",
       "</table>\n",
       "</div>"
      ],
      "text/plain": [
       "   competitorname chocolate fruity caramel peanutyalmondy nougat  \\\n",
       "id                                                                 \n",
       "0       100 Grand       Yes     No     Yes             No     No   \n",
       "1    3 Musketeers       Yes     No      No             No    Yes   \n",
       "2       Air Heads        No    Yes      No             No     No   \n",
       "3      Almond Joy       Yes     No      No            Yes     No   \n",
       "4       Baby Ruth       Yes     No     Yes            Yes    Yes   \n",
       "\n",
       "   crispedricewafer hard  bar pluribus  sugarpercent  pricepercent  winpercent  \n",
       "id                                                                              \n",
       "0               Yes   No  Yes       No         0.732         0.860   66.971725  \n",
       "1                No   No  Yes       No         0.604         0.511   67.602936  \n",
       "2                No   No   No       No         0.906         0.511   52.341465  \n",
       "3                No   No  Yes       No         0.465         0.767   50.347546  \n",
       "4                No   No  Yes       No         0.604         0.767   56.914547  "
      ]
     },
     "execution_count": 5,
     "metadata": {},
     "output_type": "execute_result"
    }
   ],
   "source": [
    "# Print the first five rows of the data\n",
    "candy_data.head() # Your code here"
   ]
  },
  {
   "cell_type": "markdown",
   "id": "37030be8",
   "metadata": {
    "papermill": {
     "duration": 0.027545,
     "end_time": "2022-04-11T20:42:57.437445",
     "exception": false,
     "start_time": "2022-04-11T20:42:57.409900",
     "status": "completed"
    },
    "tags": []
   },
   "source": [
    "The dataset contains 83 rows, where each corresponds to a different candy bar.  There are 13 columns:\n",
    "- `'competitorname'` contains the name of the candy bar. \n",
    "- the next **9** columns (from `'chocolate'` to `'pluribus'`) describe the candy.  For instance, rows with chocolate candies have `\"Yes\"` in the `'chocolate'` column (and candies without chocolate have `\"No\"` in the same column).\n",
    "- `'sugarpercent'` provides some indication of the amount of sugar, where higher values signify higher sugar content.\n",
    "- `'pricepercent'` shows the price per unit, relative to the other candies in the dataset.\n",
    "- `'winpercent'` is calculated from the survey results; higher values indicate that the candy was more popular with survey respondents.\n",
    "\n",
    "Use the first five rows of the data to answer the questions below."
   ]
  },
  {
   "cell_type": "code",
   "execution_count": 6,
   "id": "cddaad44",
   "metadata": {
    "execution": {
     "iopub.execute_input": "2022-04-11T20:42:57.498735Z",
     "iopub.status.busy": "2022-04-11T20:42:57.498128Z",
     "iopub.status.idle": "2022-04-11T20:42:57.502040Z",
     "shell.execute_reply": "2022-04-11T20:42:57.502488Z",
     "shell.execute_reply.started": "2022-04-11T20:32:36.503527Z"
    },
    "papermill": {
     "duration": 0.037328,
     "end_time": "2022-04-11T20:42:57.502645",
     "exception": false,
     "start_time": "2022-04-11T20:42:57.465317",
     "status": "completed"
    },
    "tags": []
   },
   "outputs": [
    {
     "data": {
      "application/javascript": [
       "parent.postMessage({\"jupyterEvent\": \"custom.exercise_interaction\", \"data\": {\"outcomeType\": 1, \"valueTowardsCompletion\": 0.3333333333333333, \"interactionType\": 1, \"questionType\": 1, \"questionId\": \"2_ReviewData\", \"learnToolsVersion\": \"0.3.4\", \"failureMessage\": \"\", \"exceptionClass\": \"\", \"trace\": \"\"}}, \"*\")"
      ],
      "text/plain": [
       "<IPython.core.display.Javascript object>"
      ]
     },
     "metadata": {},
     "output_type": "display_data"
    },
    {
     "data": {
      "text/markdown": [
       "<span style=\"color:#33cc33\">Correct</span>"
      ],
      "text/plain": [
       "Correct"
      ]
     },
     "metadata": {},
     "output_type": "display_data"
    }
   ],
   "source": [
    "# Fill in the line below: Which candy was more popular with survey respondents:\n",
    "# '3 Musketeers' or 'Almond Joy'?  (Please enclose your answer in single quotes.)\n",
    "more_popular = '3 Musketeers'\n",
    "\n",
    "# Fill in the line below: Which candy has higher sugar content: 'Air Heads'\n",
    "# or 'Baby Ruth'? (Please enclose your answer in single quotes.)\n",
    "more_sugar = 'Air Heads'\n",
    "\n",
    "# Check your answers\n",
    "step_2.check()"
   ]
  },
  {
   "cell_type": "code",
   "execution_count": 7,
   "id": "36e5c0e7",
   "metadata": {
    "execution": {
     "iopub.execute_input": "2022-04-11T20:42:57.563132Z",
     "iopub.status.busy": "2022-04-11T20:42:57.562504Z",
     "iopub.status.idle": "2022-04-11T20:42:57.566145Z",
     "shell.execute_reply": "2022-04-11T20:42:57.565637Z"
    },
    "papermill": {
     "duration": 0.034768,
     "end_time": "2022-04-11T20:42:57.566273",
     "exception": false,
     "start_time": "2022-04-11T20:42:57.531505",
     "status": "completed"
    },
    "tags": []
   },
   "outputs": [],
   "source": [
    "# Lines below will give you a hint or solution code\n",
    "#step_2.hint()\n",
    "#step_2.solution()"
   ]
  },
  {
   "cell_type": "markdown",
   "id": "7f513428",
   "metadata": {
    "papermill": {
     "duration": 0.028469,
     "end_time": "2022-04-11T20:42:57.623490",
     "exception": false,
     "start_time": "2022-04-11T20:42:57.595021",
     "status": "completed"
    },
    "tags": []
   },
   "source": [
    "## Step 3: The role of sugar\n",
    "\n",
    "Do people tend to prefer candies with higher sugar content?  \n",
    "\n",
    "#### Part A\n",
    "\n",
    "Create a scatter plot that shows the relationship between `'sugarpercent'` (on the horizontal x-axis) and `'winpercent'` (on the vertical y-axis).  _Don't add a regression line just yet -- you'll do that in the next step!_"
   ]
  },
  {
   "cell_type": "code",
   "execution_count": 8,
   "id": "61d549fb",
   "metadata": {
    "execution": {
     "iopub.execute_input": "2022-04-11T20:42:57.687865Z",
     "iopub.status.busy": "2022-04-11T20:42:57.687301Z",
     "iopub.status.idle": "2022-04-11T20:42:57.927115Z",
     "shell.execute_reply": "2022-04-11T20:42:57.927514Z",
     "shell.execute_reply.started": "2022-04-11T20:34:23.003065Z"
    },
    "papermill": {
     "duration": 0.27532,
     "end_time": "2022-04-11T20:42:57.927685",
     "exception": false,
     "start_time": "2022-04-11T20:42:57.652365",
     "status": "completed"
    },
    "tags": []
   },
   "outputs": [
    {
     "data": {
      "application/javascript": [
       "parent.postMessage({\"jupyterEvent\": \"custom.exercise_interaction\", \"data\": {\"outcomeType\": 1, \"valueTowardsCompletion\": 0.3333333333333333, \"interactionType\": 1, \"questionType\": 2, \"questionId\": \"3.1_PlotBlueScatter\", \"learnToolsVersion\": \"0.3.4\", \"failureMessage\": \"\", \"exceptionClass\": \"\", \"trace\": \"\"}}, \"*\")"
      ],
      "text/plain": [
       "<IPython.core.display.Javascript object>"
      ]
     },
     "metadata": {},
     "output_type": "display_data"
    },
    {
     "data": {
      "text/markdown": [
       "<span style=\"color:#33cc33\">Correct</span>"
      ],
      "text/plain": [
       "Correct"
      ]
     },
     "metadata": {},
     "output_type": "display_data"
    },
    {
     "data": {
      "image/png": "[encoded data removed]",
      "text/plain": [
       "<Figure size 432x288 with 1 Axes>"
      ]
     },
     "metadata": {
      "needs_background": "light"
     },
     "output_type": "display_data"
    }
   ],
   "source": [
    "# Scatter plot showing the relationship between 'sugarpercent' and 'winpercent'\n",
    "sns.scatterplot(x=candy_data['sugarpercent'],y=candy_data['winpercent']) # Your code here\n",
    "\n",
    "# Check your answer\n",
    "step_3.a.check()"
   ]
  },
  {
   "cell_type": "code",
   "execution_count": 9,
   "id": "1b4e991c",
   "metadata": {
    "execution": {
     "iopub.execute_input": "2022-04-11T20:42:57.994008Z",
     "iopub.status.busy": "2022-04-11T20:42:57.992624Z",
     "iopub.status.idle": "2022-04-11T20:42:57.995530Z",
     "shell.execute_reply": "2022-04-11T20:42:57.996104Z"
    },
    "papermill": {
     "duration": 0.037245,
     "end_time": "2022-04-11T20:42:57.996256",
     "exception": false,
     "start_time": "2022-04-11T20:42:57.959011",
     "status": "completed"
    },
    "tags": []
   },
   "outputs": [],
   "source": [
    "# Lines below will give you a hint or solution code\n",
    "#step_3.a.hint()\n",
    "#step_3.a.solution_plot()"
   ]
  },
  {
   "cell_type": "markdown",
   "id": "da8855bc",
   "metadata": {
    "papermill": {
     "duration": 0.031517,
     "end_time": "2022-04-11T20:42:58.058629",
     "exception": false,
     "start_time": "2022-04-11T20:42:58.027112",
     "status": "completed"
    },
    "tags": []
   },
   "source": [
    "#### Part B\n",
    "\n",
    "Does the scatter plot show a **strong** correlation between the two variables?  If so, are candies with more sugar relatively more or less popular with the survey respondents?"
   ]
  },
  {
   "cell_type": "code",
   "execution_count": 10,
   "id": "08d412d7",
   "metadata": {
    "execution": {
     "iopub.execute_input": "2022-04-11T20:42:58.125367Z",
     "iopub.status.busy": "2022-04-11T20:42:58.124742Z",
     "iopub.status.idle": "2022-04-11T20:42:58.127852Z",
     "shell.execute_reply": "2022-04-11T20:42:58.128353Z"
    },
    "papermill": {
     "duration": 0.037996,
     "end_time": "2022-04-11T20:42:58.128509",
     "exception": false,
     "start_time": "2022-04-11T20:42:58.090513",
     "status": "completed"
    },
    "tags": []
   },
   "outputs": [],
   "source": [
    "#step_3.b.hint()"
   ]
  },
  {
   "cell_type": "code",
   "execution_count": 11,
   "id": "775db903",
   "metadata": {
    "execution": {
     "iopub.execute_input": "2022-04-11T20:42:58.195866Z",
     "iopub.status.busy": "2022-04-11T20:42:58.193866Z",
     "iopub.status.idle": "2022-04-11T20:42:58.200222Z",
     "shell.execute_reply": "2022-04-11T20:42:58.200656Z",
     "shell.execute_reply.started": "2022-04-11T20:34:40.498777Z"
    },
    "papermill": {
     "duration": 0.040633,
     "end_time": "2022-04-11T20:42:58.200811",
     "exception": false,
     "start_time": "2022-04-11T20:42:58.160178",
     "status": "completed"
    },
    "tags": []
   },
   "outputs": [
    {
     "data": {
      "application/javascript": [
       "parent.postMessage({\"jupyterEvent\": \"custom.exercise_interaction\", \"data\": {\"interactionType\": 3, \"questionType\": 4, \"questionId\": \"3.2_ThinkBlueScatter\", \"learnToolsVersion\": \"0.3.4\", \"valueTowardsCompletion\": 0.0, \"failureMessage\": \"\", \"exceptionClass\": \"\", \"trace\": \"\", \"outcomeType\": 4}}, \"*\")"
      ],
      "text/plain": [
       "<IPython.core.display.Javascript object>"
      ]
     },
     "metadata": {},
     "output_type": "display_data"
    },
    {
     "data": {
      "text/markdown": [
       "<span style=\"color:#33cc99\">Solution:</span> The scatter plot does not show a strong correlation between the two variables. Since there is no clear relationship between the two variables, this tells us that sugar content does not play a strong role in candy popularity."
      ],
      "text/plain": [
       "Solution: The scatter plot does not show a strong correlation between the two variables. Since there is no clear relationship between the two variables, this tells us that sugar content does not play a strong role in candy popularity."
      ]
     },
     "metadata": {},
     "output_type": "display_data"
    }
   ],
   "source": [
    "# Check your answer (Run this code cell to receive credit!)\n",
    "step_3.b.solution()"
   ]
  },
  {
   "cell_type": "markdown",
   "id": "d542b0f6",
   "metadata": {
    "papermill": {
     "duration": 0.031286,
     "end_time": "2022-04-11T20:42:58.263451",
     "exception": false,
     "start_time": "2022-04-11T20:42:58.232165",
     "status": "completed"
    },
    "tags": []
   },
   "source": [
    "## Step 4: Take a closer look\n",
    "\n",
    "#### Part A\n",
    "\n",
    "Create the same scatter plot you created in **Step 3**, but now with a regression line!"
   ]
  },
  {
   "cell_type": "code",
   "execution_count": 12,
   "id": "aefd7974",
   "metadata": {
    "execution": {
     "iopub.execute_input": "2022-04-11T20:42:58.353429Z",
     "iopub.status.busy": "2022-04-11T20:42:58.344454Z",
     "iopub.status.idle": "2022-04-11T20:42:58.632259Z",
     "shell.execute_reply": "2022-04-11T20:42:58.631676Z",
     "shell.execute_reply.started": "2022-04-11T20:35:21.246995Z"
    },
    "papermill": {
     "duration": 0.337555,
     "end_time": "2022-04-11T20:42:58.632388",
     "exception": false,
     "start_time": "2022-04-11T20:42:58.294833",
     "status": "completed"
    },
    "tags": []
   },
   "outputs": [
    {
     "data": {
      "application/javascript": [
       "parent.postMessage({\"jupyterEvent\": \"custom.exercise_interaction\", \"data\": {\"outcomeType\": 1, \"valueTowardsCompletion\": 0.3333333333333333, \"interactionType\": 1, \"questionType\": 2, \"questionId\": \"4.1_PlotBlueReg\", \"learnToolsVersion\": \"0.3.4\", \"failureMessage\": \"\", \"exceptionClass\": \"\", \"trace\": \"\"}}, \"*\")"
      ],
      "text/plain": [
       "<IPython.core.display.Javascript object>"
      ]
     },
     "metadata": {},
     "output_type": "display_data"
    },
    {
     "data": {
      "text/markdown": [
       "<span style=\"color:#33cc33\">Correct</span>"
      ],
      "text/plain": [
       "Correct"
      ]
     },
     "metadata": {},
     "output_type": "display_data"
    },
    {
     "data": {
      "image/png": "[encoded data removed]",
      "text/plain": [
       "<Figure size 432x288 with 1 Axes>"
      ]
     },
     "metadata": {
      "needs_background": "light"
     },
     "output_type": "display_data"
    }
   ],
   "source": [
    "# Scatter plot w/ regression line showing the relationship between 'sugarpercent' and 'winpercent'\n",
    "sns.regplot(x=candy_data['sugarpercent'],y=candy_data['winpercent']) # Your code here\n",
    "\n",
    "# Check your answer\n",
    "step_4.a.check()"
   ]
  },
  {
   "cell_type": "code",
   "execution_count": 13,
   "id": "c93b29a3",
   "metadata": {
    "execution": {
     "iopub.execute_input": "2022-04-11T20:42:58.704420Z",
     "iopub.status.busy": "2022-04-11T20:42:58.703066Z",
     "iopub.status.idle": "2022-04-11T20:42:58.706700Z",
     "shell.execute_reply": "2022-04-11T20:42:58.706205Z"
    },
    "papermill": {
     "duration": 0.040657,
     "end_time": "2022-04-11T20:42:58.706824",
     "exception": false,
     "start_time": "2022-04-11T20:42:58.666167",
     "status": "completed"
    },
    "tags": []
   },
   "outputs": [],
   "source": [
    "# Lines below will give you a hint or solution code\n",
    "#step_4.a.hint()\n",
    "#step_4.a.solution_plot()"
   ]
  },
  {
   "cell_type": "markdown",
   "id": "2cf4dcb9",
   "metadata": {
    "papermill": {
     "duration": 0.03342,
     "end_time": "2022-04-11T20:42:58.774060",
     "exception": false,
     "start_time": "2022-04-11T20:42:58.740640",
     "status": "completed"
    },
    "tags": []
   },
   "source": [
    "#### Part B\n",
    "\n",
    "According to the plot above, is there a **slight** correlation between `'winpercent'` and `'sugarpercent'`?  What does this tell you about the candy that people tend to prefer?"
   ]
  },
  {
   "cell_type": "code",
   "execution_count": 14,
   "id": "b68a3456",
   "metadata": {
    "execution": {
     "iopub.execute_input": "2022-04-11T20:42:58.845124Z",
     "iopub.status.busy": "2022-04-11T20:42:58.844522Z",
     "iopub.status.idle": "2022-04-11T20:42:58.846870Z",
     "shell.execute_reply": "2022-04-11T20:42:58.846377Z"
    },
    "papermill": {
     "duration": 0.039408,
     "end_time": "2022-04-11T20:42:58.847041",
     "exception": false,
     "start_time": "2022-04-11T20:42:58.807633",
     "status": "completed"
    },
    "tags": []
   },
   "outputs": [],
   "source": [
    "#step_4.b.hint()"
   ]
  },
  {
   "cell_type": "code",
   "execution_count": 15,
   "id": "4f5ef056",
   "metadata": {
    "execution": {
     "iopub.execute_input": "2022-04-11T20:42:58.917444Z",
     "iopub.status.busy": "2022-04-11T20:42:58.916803Z",
     "iopub.status.idle": "2022-04-11T20:42:58.922392Z",
     "shell.execute_reply": "2022-04-11T20:42:58.922850Z",
     "shell.execute_reply.started": "2022-04-11T20:35:29.854544Z"
    },
    "papermill": {
     "duration": 0.042438,
     "end_time": "2022-04-11T20:42:58.923026",
     "exception": false,
     "start_time": "2022-04-11T20:42:58.880588",
     "status": "completed"
    },
    "tags": []
   },
   "outputs": [
    {
     "data": {
      "application/javascript": [
       "parent.postMessage({\"jupyterEvent\": \"custom.exercise_interaction\", \"data\": {\"interactionType\": 3, \"questionType\": 4, \"questionId\": \"4.2_ThinkBlueReg\", \"learnToolsVersion\": \"0.3.4\", \"valueTowardsCompletion\": 0.0, \"failureMessage\": \"\", \"exceptionClass\": \"\", \"trace\": \"\", \"outcomeType\": 4}}, \"*\")"
      ],
      "text/plain": [
       "<IPython.core.display.Javascript object>"
      ]
     },
     "metadata": {},
     "output_type": "display_data"
    },
    {
     "data": {
      "text/markdown": [
       "<span style=\"color:#33cc99\">Solution:</span> Since the regression line has a slightly positive slope, this tells us that there is a slightly positive correlation between `'winpercent'` and `'sugarpercent'`. Thus, people have a slight preference for candies containing relatively more sugar."
      ],
      "text/plain": [
       "Solution: Since the regression line has a slightly positive slope, this tells us that there is a slightly positive correlation between `'winpercent'` and `'sugarpercent'`. Thus, people have a slight preference for candies containing relatively more sugar."
      ]
     },
     "metadata": {},
     "output_type": "display_data"
    }
   ],
   "source": [
    "# Check your answer (Run this code cell to receive credit!)\n",
    "step_4.b.solution()"
   ]
  },
  {
   "cell_type": "markdown",
   "id": "14b5a3ed",
   "metadata": {
    "papermill": {
     "duration": 0.034517,
     "end_time": "2022-04-11T20:42:58.992113",
     "exception": false,
     "start_time": "2022-04-11T20:42:58.957596",
     "status": "completed"
    },
    "tags": []
   },
   "source": [
    "## Step 5: Chocolate!\n",
    "\n",
    "In the code cell below, create a scatter plot to show the relationship between `'pricepercent'` (on the horizontal x-axis) and `'winpercent'` (on the vertical y-axis). Use the `'chocolate'` column to color-code the points.  _Don't add any regression lines just yet -- you'll do that in the next step!_"
   ]
  },
  {
   "cell_type": "code",
   "execution_count": 16,
   "id": "398f8bbd",
   "metadata": {
    "execution": {
     "iopub.execute_input": "2022-04-11T20:42:59.084841Z",
     "iopub.status.busy": "2022-04-11T20:42:59.063304Z",
     "iopub.status.idle": "2022-04-11T20:42:59.348527Z",
     "shell.execute_reply": "2022-04-11T20:42:59.349056Z",
     "shell.execute_reply.started": "2022-04-11T20:36:31.422572Z"
    },
    "papermill": {
     "duration": 0.322616,
     "end_time": "2022-04-11T20:42:59.349213",
     "exception": false,
     "start_time": "2022-04-11T20:42:59.026597",
     "status": "completed"
    },
    "tags": []
   },
   "outputs": [
    {
     "data": {
      "application/javascript": [
       "parent.postMessage({\"jupyterEvent\": \"custom.exercise_interaction\", \"data\": {\"outcomeType\": 1, \"valueTowardsCompletion\": 0.3333333333333333, \"interactionType\": 1, \"questionType\": 2, \"questionId\": \"5_ColorScatter\", \"learnToolsVersion\": \"0.3.4\", \"failureMessage\": \"\", \"exceptionClass\": \"\", \"trace\": \"\"}}, \"*\")"
      ],
      "text/plain": [
       "<IPython.core.display.Javascript object>"
      ]
     },
     "metadata": {},
     "output_type": "display_data"
    },
    {
     "data": {
      "text/markdown": [
       "<span style=\"color:#33cc33\">Correct</span>"
      ],
      "text/plain": [
       "Correct"
      ]
     },
     "metadata": {},
     "output_type": "display_data"
    },
    {
     "data": {
      "image/png": "[encoded data removed]",
      "text/plain": [
       "<Figure size 432x288 with 1 Axes>"
      ]
     },
     "metadata": {
      "needs_background": "light"
     },
     "output_type": "display_data"
    }
   ],
   "source": [
    "# Scatter plot showing the relationship between 'pricepercent', 'winpercent', and 'chocolate'\n",
    "sns.scatterplot(x=candy_data['sugarpercent'],y=candy_data['winpercent'],hue=candy_data['chocolate'])# Your code here\n",
    "\n",
    "# Check your answer\n",
    "step_5.check()"
   ]
  },
  {
   "cell_type": "code",
   "execution_count": 17,
   "id": "b865799d",
   "metadata": {
    "execution": {
     "iopub.execute_input": "2022-04-11T20:42:59.427522Z",
     "iopub.status.busy": "2022-04-11T20:42:59.426972Z",
     "iopub.status.idle": "2022-04-11T20:42:59.429369Z",
     "shell.execute_reply": "2022-04-11T20:42:59.429896Z"
    },
    "papermill": {
     "duration": 0.042657,
     "end_time": "2022-04-11T20:42:59.430067",
     "exception": false,
     "start_time": "2022-04-11T20:42:59.387410",
     "status": "completed"
    },
    "tags": []
   },
   "outputs": [],
   "source": [
    "# Lines below will give you a hint or solution code\n",
    "#step_5.hint()\n",
    "#step_5.solution_plot()"
   ]
  },
  {
   "cell_type": "markdown",
   "id": "11e3766a",
   "metadata": {
    "papermill": {
     "duration": 0.036139,
     "end_time": "2022-04-11T20:42:59.503128",
     "exception": false,
     "start_time": "2022-04-11T20:42:59.466989",
     "status": "completed"
    },
    "tags": []
   },
   "source": [
    "Can you see any interesting patterns in the scatter plot?  We'll investigate this plot further  by adding regression lines in the next step!\n",
    "\n",
    "## Step 6: Investigate chocolate\n",
    "\n",
    "#### Part A\n",
    "\n",
    "Create the same scatter plot you created in **Step 5**, but now with two regression lines, corresponding to (1) chocolate candies and (2) candies without chocolate."
   ]
  },
  {
   "cell_type": "code",
   "execution_count": 18,
   "id": "320ea575",
   "metadata": {
    "execution": {
     "iopub.execute_input": "2022-04-11T20:42:59.579135Z",
     "iopub.status.busy": "2022-04-11T20:42:59.578485Z",
     "iopub.status.idle": "2022-04-11T20:43:00.178213Z",
     "shell.execute_reply": "2022-04-11T20:43:00.178728Z",
     "shell.execute_reply.started": "2022-04-11T20:38:29.974281Z"
    },
    "papermill": {
     "duration": 0.639034,
     "end_time": "2022-04-11T20:43:00.178889",
     "exception": false,
     "start_time": "2022-04-11T20:42:59.539855",
     "status": "completed"
    },
    "tags": []
   },
   "outputs": [
    {
     "data": {
      "application/javascript": [
       "parent.postMessage({\"jupyterEvent\": \"custom.exercise_interaction\", \"data\": {\"outcomeType\": 1, \"valueTowardsCompletion\": 0.3333333333333333, \"interactionType\": 1, \"questionType\": 2, \"questionId\": \"6.1_PlotColorReg\", \"learnToolsVersion\": \"0.3.4\", \"failureMessage\": \"\", \"exceptionClass\": \"\", \"trace\": \"\"}}, \"*\")"
      ],
      "text/plain": [
       "<IPython.core.display.Javascript object>"
      ]
     },
     "metadata": {},
     "output_type": "display_data"
    },
    {
     "data": {
      "text/markdown": [
       "<span style=\"color:#33cc33\">Correct</span>"
      ],
      "text/plain": [
       "Correct"
      ]
     },
     "metadata": {},
     "output_type": "display_data"
    },
    {
     "data": {
      "image/png": "[encoded data removed]",
      "text/plain": [
       "<Figure size 416.375x360 with 1 Axes>"
      ]
     },
     "metadata": {
      "needs_background": "light"
     },
     "output_type": "display_data"
    }
   ],
   "source": [
    "# Color-coded scatter plot w/ regression lines\n",
    "sns.lmplot(x=\"sugarpercent\", y=\"winpercent\", hue=\"chocolate\", data=candy_data) # Your code here\n",
    "\n",
    "# Check your answer\n",
    "step_6.a.check()"
   ]
  },
  {
   "cell_type": "code",
   "execution_count": 19,
   "id": "2598d56f",
   "metadata": {
    "execution": {
     "iopub.execute_input": "2022-04-11T20:43:00.259245Z",
     "iopub.status.busy": "2022-04-11T20:43:00.258640Z",
     "iopub.status.idle": "2022-04-11T20:43:00.261268Z",
     "shell.execute_reply": "2022-04-11T20:43:00.261823Z"
    },
    "papermill": {
     "duration": 0.044387,
     "end_time": "2022-04-11T20:43:00.261996",
     "exception": false,
     "start_time": "2022-04-11T20:43:00.217609",
     "status": "completed"
    },
    "tags": []
   },
   "outputs": [],
   "source": [
    "# Lines below will give you a hint or solution code\n",
    "#step_6.a.hint()\n",
    "#step_6.a.solution_plot()"
   ]
  },
  {
   "cell_type": "markdown",
   "id": "6321fb48",
   "metadata": {
    "papermill": {
     "duration": 0.038117,
     "end_time": "2022-04-11T20:43:00.340240",
     "exception": false,
     "start_time": "2022-04-11T20:43:00.302123",
     "status": "completed"
    },
    "tags": []
   },
   "source": [
    "#### Part B\n",
    "\n",
    "Using the regression lines, what conclusions can you draw about the effects of chocolate and price on candy popularity?"
   ]
  },
  {
   "cell_type": "code",
   "execution_count": 20,
   "id": "02efcdcc",
   "metadata": {
    "execution": {
     "iopub.execute_input": "2022-04-11T20:43:00.419842Z",
     "iopub.status.busy": "2022-04-11T20:43:00.419285Z",
     "iopub.status.idle": "2022-04-11T20:43:00.422125Z",
     "shell.execute_reply": "2022-04-11T20:43:00.422564Z"
    },
    "papermill": {
     "duration": 0.043925,
     "end_time": "2022-04-11T20:43:00.422723",
     "exception": false,
     "start_time": "2022-04-11T20:43:00.378798",
     "status": "completed"
    },
    "tags": []
   },
   "outputs": [],
   "source": [
    "#step_6.b.hint()"
   ]
  },
  {
   "cell_type": "code",
   "execution_count": 21,
   "id": "f5545fa3",
   "metadata": {
    "execution": {
     "iopub.execute_input": "2022-04-11T20:43:00.503048Z",
     "iopub.status.busy": "2022-04-11T20:43:00.502428Z",
     "iopub.status.idle": "2022-04-11T20:43:00.509074Z",
     "shell.execute_reply": "2022-04-11T20:43:00.509604Z",
     "shell.execute_reply.started": "2022-04-11T20:38:36.843724Z"
    },
    "papermill": {
     "duration": 0.048496,
     "end_time": "2022-04-11T20:43:00.509759",
     "exception": false,
     "start_time": "2022-04-11T20:43:00.461263",
     "status": "completed"
    },
    "tags": []
   },
   "outputs": [
    {
     "data": {
      "application/javascript": [
       "parent.postMessage({\"jupyterEvent\": \"custom.exercise_interaction\", \"data\": {\"interactionType\": 3, \"questionType\": 4, \"questionId\": \"6.2_ThinkColorReg\", \"learnToolsVersion\": \"0.3.4\", \"valueTowardsCompletion\": 0.0, \"failureMessage\": \"\", \"exceptionClass\": \"\", \"trace\": \"\", \"outcomeType\": 4}}, \"*\")"
      ],
      "text/plain": [
       "<IPython.core.display.Javascript object>"
      ]
     },
     "metadata": {},
     "output_type": "display_data"
    },
    {
     "data": {
      "text/markdown": [
       "<span style=\"color:#33cc99\">Solution:</span> We'll begin with the regression line for chocolate candies. Since this line has a slightly positive slope, we can say that more expensive chocolate candies tend to be more popular (than relatively cheaper chocolate candies).  Likewise, since the regression line for candies without chocolate has a negative slope, we can say that if candies don't contain chocolate, they tend to be more popular when they are cheaper.  One important note, however, is that the dataset is quite small -- so we shouldn't invest too much trust in these patterns!  To inspire more confidence in the results, we should add more candies to the dataset."
      ],
      "text/plain": [
       "Solution: We'll begin with the regression line for chocolate candies. Since this line has a slightly positive slope, we can say that more expensive chocolate candies tend to be more popular (than relatively cheaper chocolate candies).  Likewise, since the regression line for candies without chocolate has a negative slope, we can say that if candies don't contain chocolate, they tend to be more popular when they are cheaper.  One important note, however, is that the dataset is quite small -- so we shouldn't invest too much trust in these patterns!  To inspire more confidence in the results, we should add more candies to the dataset."
      ]
     },
     "metadata": {},
     "output_type": "display_data"
    }
   ],
   "source": [
    "# Check your answer (Run this code cell to receive credit!)\n",
    "step_6.b.solution()"
   ]
  },
  {
   "cell_type": "markdown",
   "id": "ebc89c2a",
   "metadata": {
    "papermill": {
     "duration": 0.039448,
     "end_time": "2022-04-11T20:43:00.588800",
     "exception": false,
     "start_time": "2022-04-11T20:43:00.549352",
     "status": "completed"
    },
    "tags": []
   },
   "source": [
    "## Step 7: Everybody loves chocolate.\n",
    "\n",
    "#### Part A\n",
    "\n",
    "Create a categorical scatter plot to highlight the relationship between `'chocolate'` and `'winpercent'`.  Put `'chocolate'` on the (horizontal) x-axis, and `'winpercent'` on the (vertical) y-axis."
   ]
  },
  {
   "cell_type": "code",
   "execution_count": 22,
   "id": "fa3d4501",
   "metadata": {
    "execution": {
     "iopub.execute_input": "2022-04-11T20:43:00.670888Z",
     "iopub.status.busy": "2022-04-11T20:43:00.670285Z",
     "iopub.status.idle": "2022-04-11T20:43:00.861893Z",
     "shell.execute_reply": "2022-04-11T20:43:00.862461Z",
     "shell.execute_reply.started": "2022-04-11T20:39:42.555746Z"
    },
    "papermill": {
     "duration": 0.234367,
     "end_time": "2022-04-11T20:43:00.862625",
     "exception": false,
     "start_time": "2022-04-11T20:43:00.628258",
     "status": "completed"
    },
    "tags": []
   },
   "outputs": [
    {
     "data": {
      "application/javascript": [
       "parent.postMessage({\"jupyterEvent\": \"custom.exercise_interaction\", \"data\": {\"outcomeType\": 1, \"valueTowardsCompletion\": 0.3333333333333333, \"interactionType\": 1, \"questionType\": 2, \"questionId\": \"7.1_PlotSwarm\", \"learnToolsVersion\": \"0.3.4\", \"failureMessage\": \"\", \"exceptionClass\": \"\", \"trace\": \"\"}}, \"*\")"
      ],
      "text/plain": [
       "<IPython.core.display.Javascript object>"
      ]
     },
     "metadata": {},
     "output_type": "display_data"
    },
    {
     "data": {
      "text/markdown": [
       "<span style=\"color:#33cc33\">Correct</span>"
      ],
      "text/plain": [
       "Correct"
      ]
     },
     "metadata": {},
     "output_type": "display_data"
    },
    {
     "data": {
      "image/png": "[encoded data removed]",
      "text/plain": [
       "<Figure size 432x288 with 1 Axes>"
      ]
     },
     "metadata": {
      "needs_background": "light"
     },
     "output_type": "display_data"
    }
   ],
   "source": [
    "# Scatter plot showing the relationship between 'chocolate' and 'winpercent'\n",
    "sns.swarmplot(x=candy_data['chocolate'],y=candy_data['winpercent'])  # Your code here\n",
    "\n",
    "# Check your answer\n",
    "step_7.a.check()"
   ]
  },
  {
   "cell_type": "code",
   "execution_count": 23,
   "id": "54dd81f3",
   "metadata": {
    "execution": {
     "iopub.execute_input": "2022-04-11T20:43:00.949880Z",
     "iopub.status.busy": "2022-04-11T20:43:00.949321Z",
     "iopub.status.idle": "2022-04-11T20:43:00.951679Z",
     "shell.execute_reply": "2022-04-11T20:43:00.952150Z"
    },
    "papermill": {
     "duration": 0.047668,
     "end_time": "2022-04-11T20:43:00.952306",
     "exception": false,
     "start_time": "2022-04-11T20:43:00.904638",
     "status": "completed"
    },
    "tags": []
   },
   "outputs": [],
   "source": [
    "# Lines below will give you a hint or solution code\n",
    "#step_7.a.hint()\n",
    "#step_7.a.solution_plot()"
   ]
  },
  {
   "cell_type": "markdown",
   "id": "fe39fe35",
   "metadata": {
    "papermill": {
     "duration": 0.040807,
     "end_time": "2022-04-11T20:43:01.034391",
     "exception": false,
     "start_time": "2022-04-11T20:43:00.993584",
     "status": "completed"
    },
    "tags": []
   },
   "source": [
    "#### Part B\n",
    "\n",
    "You decide to dedicate a section of your report to the fact that chocolate candies tend to be more popular than candies without chocolate.  Which plot is more appropriate to tell this story: the plot from **Step 6**, or the plot from **Step 7**?"
   ]
  },
  {
   "cell_type": "code",
   "execution_count": 24,
   "id": "a3ca3c2d",
   "metadata": {
    "execution": {
     "iopub.execute_input": "2022-04-11T20:43:01.121368Z",
     "iopub.status.busy": "2022-04-11T20:43:01.120461Z",
     "iopub.status.idle": "2022-04-11T20:43:01.123464Z",
     "shell.execute_reply": "2022-04-11T20:43:01.124025Z"
    },
    "papermill": {
     "duration": 0.04869,
     "end_time": "2022-04-11T20:43:01.124181",
     "exception": false,
     "start_time": "2022-04-11T20:43:01.075491",
     "status": "completed"
    },
    "tags": []
   },
   "outputs": [],
   "source": [
    "#step_7.b.hint()"
   ]
  },
  {
   "cell_type": "code",
   "execution_count": 25,
   "id": "b9052c2b",
   "metadata": {
    "execution": {
     "iopub.execute_input": "2022-04-11T20:43:01.210254Z",
     "iopub.status.busy": "2022-04-11T20:43:01.209344Z",
     "iopub.status.idle": "2022-04-11T20:43:01.216172Z",
     "shell.execute_reply": "2022-04-11T20:43:01.216634Z",
     "shell.execute_reply.started": "2022-04-11T20:39:53.828249Z"
    },
    "papermill": {
     "duration": 0.051404,
     "end_time": "2022-04-11T20:43:01.216798",
     "exception": false,
     "start_time": "2022-04-11T20:43:01.165394",
     "status": "completed"
    },
    "tags": []
   },
   "outputs": [
    {
     "data": {
      "application/javascript": [
       "parent.postMessage({\"jupyterEvent\": \"custom.exercise_interaction\", \"data\": {\"interactionType\": 3, \"questionType\": 4, \"questionId\": \"7.2_ThinkSwarm\", \"learnToolsVersion\": \"0.3.4\", \"valueTowardsCompletion\": 0.0, \"failureMessage\": \"\", \"exceptionClass\": \"\", \"trace\": \"\", \"outcomeType\": 4}}, \"*\")"
      ],
      "text/plain": [
       "<IPython.core.display.Javascript object>"
      ]
     },
     "metadata": {},
     "output_type": "display_data"
    },
    {
     "data": {
      "text/markdown": [
       "<span style=\"color:#33cc99\">Solution:</span> In this case, the categorical scatter plot from **Step 7** is the more appropriate plot. While both plots tell the desired story, the plot from **Step 6** conveys far more information that could distract from the main point."
      ],
      "text/plain": [
       "Solution: In this case, the categorical scatter plot from **Step 7** is the more appropriate plot. While both plots tell the desired story, the plot from **Step 6** conveys far more information that could distract from the main point."
      ]
     },
     "metadata": {},
     "output_type": "display_data"
    }
   ],
   "source": [
    "# Check your answer (Run this code cell to receive credit!)\n",
    "step_7.b.solution()"
   ]
  },
  {
   "cell_type": "markdown",
   "id": "f8fd96bb",
   "metadata": {
    "papermill": {
     "duration": 0.041518,
     "end_time": "2022-04-11T20:43:01.300484",
     "exception": false,
     "start_time": "2022-04-11T20:43:01.258966",
     "status": "completed"
    },
    "tags": []
   },
   "source": [
    "## Keep going\n",
    "\n",
    "Explore **[histograms and density plots](https://www.kaggle.com/alexisbcook/distributions)**."
   ]
  },
  {
   "cell_type": "markdown",
   "id": "eb5023a0",
   "metadata": {
    "papermill": {
     "duration": 0.041517,
     "end_time": "2022-04-11T20:43:01.384060",
     "exception": false,
     "start_time": "2022-04-11T20:43:01.342543",
     "status": "completed"
    },
    "tags": []
   },
   "source": [
    "---\n",
    "\n",
    "\n",
    "\n",
    "\n",
    "*Have questions or comments? Visit the [course discussion forum](https://www.kaggle.com/learn/data-visualization/discussion) to chat with other learners.*"
   ]
  }
 ],
 "metadata": {
  "kernelspec": {
   "display_name": "Python 3",
   "language": "python",
   "name": "python3"
  },
  "language_info": {
   "codemirror_mode": {
    "name": "ipython",
    "version": 3
   },
   "file_extension": ".py",
   "mimetype": "text/x-python",
   "name": "python",
   "nbconvert_exporter": "python",
   "pygments_lexer": "ipython3",
   "version": "3.7.12"
  },
  "papermill": {
   "default_parameters": {},
   "duration": 14.717286,
   "end_time": "2022-04-11T20:43:02.034878",
   "environment_variables": {},
   "exception": null,
   "input_path": "__notebook__.ipynb",
   "output_path": "__notebook__.ipynb",
   "parameters": {},
   "start_time": "2022-04-11T20:42:47.317592",
   "version": "2.3.3"
  }
 },
 "nbformat": 4,
 "nbformat_minor": 5
}
